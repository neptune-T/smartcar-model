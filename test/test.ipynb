{
 "cells": [
  {
   "cell_type": "code",
   "execution_count": null,
   "metadata": {},
   "outputs": [],
   "source": [
    "!pip install tqdm\n",
    "!pip install Cython lap PyYAML shapely scikit-learn terminaltables\n",
    "!pip install scikit-learn  \n",
    "!pip install --upgrade pip setuptools"
   ]
  },
  {
   "cell_type": "code",
   "execution_count": null,
   "metadata": {},
   "outputs": [],
   "source": [
    "# 安装PaddleDetection\n",
    "%cd E:/CAR/PaddleDetection\n",
    "!pip install -r requirements.txt  \n",
    "!python setup.py install"
   ]
  },
  {
   "cell_type": "code",
   "execution_count": null,
   "metadata": {},
   "outputs": [],
   "source": [
    "%cd E:/CAR/PaddleDetection\n",
    "# 生成训练集\n",
    "!python tools/x2coco.py \\\n",
    "        --dataset_type voc \\\n",
    "        --voc_anno_dir E:/car/test/annotations(voc)/ \\\n",
    "        --voc_anno_list E:/car/test/train.txt \\\n",
    "        --voc_label_list E:/car/test/label_list.txt \\\n",
    "        --voc_out_name E:/car/test/train.json \n",
    "       \n",
    "# 生成验证集\n",
    "!python tools/x2coco.py \\\n",
    "        --dataset_type voc \\\n",
    "        --voc_anno_dir E:/car/test/annotations(voc)/ \\\n",
    "        --voc_anno_list E:/car/test/val.txt \\\n",
    "        --voc_label_list E:/car/test/label_list.txt \\\n",
    "        --voc_out_name E:/car/test/val.json     \n"
   ]
  },
  {
   "cell_type": "code",
   "execution_count": null,
   "metadata": {},
   "outputs": [],
   "source": [
    "# 输出json文件基本信息\n",
    "!python E:/CAR/work/json_infoShow.py --json_path=E:/car/test/train.json"
   ]
  },
  {
   "cell_type": "code",
   "execution_count": null,
   "metadata": {},
   "outputs": [],
   "source": [
    "# 这里的命令指的是替换配置文件中的数据集文件\n",
    "!echo \"romve the old dataset config\"\n",
    "!rm ~/PaddleDetection/configs/datasets/coco_detection.yml\n",
    "!echo \"copy new config to target dir\"\n",
    "!cp -p ~/coco_detection.yml ~/PaddleDetection/configs/datasets/\n",
    "!echo \"complete! is your show time please~\""
   ]
  },
  {
   "cell_type": "code",
   "execution_count": null,
   "metadata": {},
   "outputs": [],
   "source": [
    "import paddle\n",
    "print(paddle.device.is_compiled_with_cuda())"
   ]
  },
  {
   "cell_type": "code",
   "execution_count": null,
   "metadata": {},
   "outputs": [],
   "source": [
    "use_cuda = True\n",
    "place = paddle.CUDAPlace(0) if use_cuda else paddle.CPUPlace()"
   ]
  },
  {
   "cell_type": "code",
   "execution_count": null,
   "metadata": {},
   "outputs": [],
   "source": [
    "# ppyoloe\n",
    "%cd E:/car/PaddleDetection\n",
    "!python tools/train.py -c configs/ppyoloe/ppyoloe_crn_l_300e_coco.yml --eval --use_vdl=true --vdl_log_dir='./output'"
   ]
  }
 ],
 "metadata": {
  "kernelspec": {
   "display_name": "myenv",
   "language": "python",
   "name": "python3"
  },
  "language_info": {
   "codemirror_mode": {
    "name": "ipython",
    "version": 3
   },
   "file_extension": ".py",
   "mimetype": "text/x-python",
   "name": "python",
   "nbconvert_exporter": "python",
   "pygments_lexer": "ipython3",
   "version": "3.7.16"
  }
 },
 "nbformat": 4,
 "nbformat_minor": 2
}
