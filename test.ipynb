{
 "cells": [
  {
   "cell_type": "code",
   "execution_count": null,
   "metadata": {},
   "outputs": [],
   "source": [
    "# 安装PaddleDetection\n",
    "%cd E:/CAR/PaddleDetection\n",
    "!pip install -r requirements.txt  \n",
    "!python setup.py install"
   ]
  },
  {
   "cell_type": "markdown",
   "metadata": {},
   "source": [
    "# 数据分析"
   ]
  },
  {
   "cell_type": "code",
   "execution_count": null,
   "metadata": {},
   "outputs": [],
   "source": [
    "# 对官方数据集进行详细分析\n",
    "# analyze.py——数据分析\n",
    "# visualize.py——GT框可视化\n",
    "%cd /home/aistudio/work/DataAnalyze\n",
    "!python analyze.py voc /home/aistudio/Car2024/annotations/ --out ./out/"
   ]
  },
  {
   "cell_type": "code",
   "execution_count": null,
   "metadata": {},
   "outputs": [],
   "source": [
    "# 生成训练集和验证集标签的id文件\n",
    "# 随机划分数据集（可在代码中修改train_ratio的值从而改变训练集的划分比例）\n",
    "!python /work/voc2coco/random_split_ids.py"
   ]
  },
  {
   "cell_type": "code",
   "execution_count": null,
   "metadata": {},
   "outputs": [],
   "source": [
    "# voc转coco格式，得到train.json\n",
    "!python /PaddleDetection/tools/x2coco.py \\\n",
    "    --dataset_type=voc \\\n",
    "    --voc_anno_dir='/Car2024/Annotations' \\\n",
    "    --voc_anno_list='/work/voc2coco/train_ann_ids.txt' \\\n",
    "    --voc_label_list='/Car2024/label_list.txt' \\\n",
    "    --output_dir='/Car2024/' \\\n",
    "    --voc_out_name=train.json\n",
    "    \n",
    "\n",
    "# voc转coco格式，得到val.json\n",
    "!python /PaddleDetection/tools/x2coco.py \\\n",
    "    --dataset_type=voc \\\n",
    "    --voc_anno_dir='/Car2024/Annotations' \\\n",
    "    --voc_anno_list='/work/voc2coco/val_ann_ids.txt' \\\n",
    "    --voc_label_list='/Car2024/label_list.txt' \\\n",
    "    --output_dir='/Car2024/' \\\n",
    "    --voc_out_name=val.json\n"
   ]
  },
  {
   "cell_type": "code",
   "execution_count": null,
   "metadata": {},
   "outputs": [],
   "source": [
    "# 分析id数据\n",
    "!python /work/work/id.py"
   ]
  },
  {
   "cell_type": "code",
   "execution_count": null,
   "metadata": {},
   "outputs": [],
   "source": [
    "# 根据数据集的特征数目来优化增强数据（使用copy-paste）\n",
    "!python /work/copy_paste.py \\\n",
    "    --input_dir=/Car2024/Images \\\n",
    "    --json_path=/Car2024/train.json \\\n",
    "    --output_json=/Car2024/train_1.json \\\n",
    "    --muti_obj \\\n",
    "    --category_id=11 \\\n",
    "    --copypaste_ratio=0.45\n",
    "\n",
    "!python /work/copy_paste.py \\\n",
    "    --input_dir=/Car2024/Images \\\n",
    "    --json_path=/Car2024/train_1.json \\\n",
    "    --output_json=/Car2024/train_2.json \\\n",
    "    --muti_obj \\\n",
    "    --category_id=12 \\\n",
    "    --copypaste_ratio=0.45\n",
    "\n",
    "!python /work/copy_paste.py \\\n",
    "    --input_dir=/Car2024/Images \\\n",
    "    --json_path=/Car2024/train_2.json \\\n",
    "    --output_json=/Car2024/train_3.json \\\n",
    "    --muti_obj \\\n",
    "    --category_id=13 \\\n",
    "    --copypaste_ratio=0.45\n",
    "\n",
    "!python /work/copy_paste.py \\\n",
    "    --input_dir=/Car2024/Images \\\n",
    "    --json_path=/Car2024/train_3.json \\\n",
    "    --output_json=/Car2024/train_4.json \\\n",
    "    --muti_obj \\\n",
    "    --category_id=5 \\\n",
    "    --copypaste_ratio=0.45\n",
    "\n",
    "!python /work/copy_paste.py \\\n",
    "    --input_dir=/Car2024/Images \\\n",
    "    --json_path=/Car2024/train_4.json \\\n",
    "    --output_json=/Car2024/train_5.json \\\n",
    "    --muti_obj \\\n",
    "    --category_id=7 \\\n",
    "    --copypaste_ratio=0.45\n",
    "\n",
    "!python /work/copy_paste.py \\\n",
    "    --input_dir=/Car2024/Images \\\n",
    "    --json_path=/Car2024/train_5.json \\\n",
    "    --output_json=/Car2024/train_6.json \\\n",
    "    --muti_obj \\\n",
    "    --category_id=1 \\\n",
    "    --copypaste_ratio=0.45\n",
    "\n",
    "\n",
    "······"
   ]
  },
  {
   "cell_type": "code",
   "execution_count": null,
   "metadata": {},
   "outputs": [],
   "source": [
    "# 查看修改之后的数据\n",
    "]\n",
    "import json\n",
    "from IPython.display import display, JSON\n",
    "\n",
    "# 查看增强后的JSON文件（示例）\n",
    "# 选择一个增强后的JSON文件路径进行展示\n",
    "enhanced_json_path = f'/home/aistudio/Car2024/train_4.json'  # 根据实际生成的文件路径修改\n",
    "\n",
    "# 读取并展示增强后的JSON文件内容\n",
    "with open(enhanced_json_path, 'r') as f:\n",
    "    enhanced_data = json.load(f)\n",
    "\n",
    "# 使用 IPython.display 显示 JSON 内容\n",
    "display(JSON(enhanced_data))"
   ]
  },
  {
   "cell_type": "code",
   "execution_count": null,
   "metadata": {},
   "outputs": [],
   "source": [
    "# 对标注类别id和数据统计\n",
    "import json\n",
    "from collections import defaultdict\n",
    "\n",
    "def get_category_distribution(json_path):\n",
    "    \"\"\"\n",
    "    获取JSON文件中每个类别的注释数量\n",
    "    :param json_path: JSON文件路径\n",
    "    :return: 类别ID到注释数量的映射字典\n",
    "    \"\"\"\n",
    "    with open(json_path, 'r') as f:\n",
    "        data = json.load(f)\n",
    "    \n",
    "    annotations = data['annotations']\n",
    "    category_distribution = defaultdict(int)\n",
    "    \n",
    "    for annotation in annotations:\n",
    "        category_id = annotation['category_id']\n",
    "        category_distribution[category_id] += 1\n",
    "    \n",
    "    return category_distribution\n",
    "\n",
    "\n",
    "json_paths = ['/Car2024/train.json', '/Car2024/train_10.json']\n",
    "\n",
    "for json_path in json_paths:\n",
    "    category_distribution = get_category_distribution(json_path)\n",
    "    print(f\"文件: {json_path}\")\n",
    "    for category_id, count in category_distribution.items():\n",
    "        print(f\"  类别ID: {category_id}, 注释数量: {count}\")\n",
    "    print(\"\\n\")"
   ]
  },
  {
   "cell_type": "code",
   "execution_count": null,
   "metadata": {},
   "outputs": [],
   "source": [
    "# 输出json文件基本信息\n",
    "!python E:/CAR/work/json_infoShow.py --json_path=E:/car/test/train.json"
   ]
  },
  {
   "cell_type": "code",
   "execution_count": null,
   "metadata": {},
   "outputs": [],
   "source": [
    "# 这里的命令指的是替换配置文件中的数据集文件\n",
    "!echo \"romve the old dataset config\"\n",
    "!rm ~/PaddleDetection/configs/datasets/coco_detection.yml\n",
    "!echo \"copy new config to target dir\"\n",
    "!cp -p ~/coco_detection.yml ~/PaddleDetection/configs/datasets/\n",
    "!echo \"complete! is your show time please~\""
   ]
  },
  {
   "cell_type": "code",
   "execution_count": null,
   "metadata": {},
   "outputs": [],
   "source": [
    "import paddle\n",
    "print(paddle.device.is_compiled_with_cuda())\n"
   ]
  },
  {
   "cell_type": "code",
   "execution_count": null,
   "metadata": {},
   "outputs": [],
   "source": [
    "use_cuda = True\n",
    "place = paddle.CUDAPlace(0) if use_cuda else paddle.CPUPlace()\n"
   ]
  },
  {
   "cell_type": "code",
   "execution_count": null,
   "metadata": {},
   "outputs": [],
   "source": [
    "# ppyoloe\n",
    "%cd E:/car/PaddleDetection/\n",
    "!python tools/train.py -c configs/ppyoloe/ppyoloe_crn_l_300e_coco.yml --eval --use_vdl=true --vdl_log_dir='./output'"
   ]
  },
  {
   "cell_type": "code",
   "execution_count": null,
   "metadata": {},
   "outputs": [],
   "source": [
    "# 删除多余文件，保留最后模型\n",
    "\n",
    "%cd ~/PaddleDetection/output/cascade_rcnn_r50_fpn_1x_coco\n",
    "!find . -type f -name '[0-9]'\n",
    "!find . -type f -name '[0-9]*' -exec rm -f {} \\;\n",
    "!echo \"delete checkpoints complete!\""
   ]
  },
  {
   "cell_type": "markdown",
   "metadata": {},
   "source": [
    "# 预测结果"
   ]
  },
  {
   "cell_type": "code",
   "execution_count": null,
   "metadata": {},
   "outputs": [],
   "source": [
    "# 预测模型\n",
    "%cd ~\n",
    "%cd PaddleDetection\n",
    "\n",
    "!python tools/infer.py -c configs/picodet/picodet_m_320_coco_lcnet.yml \\\n",
    "                    --infer_img=/Car2024/images\\\n",
    "                    --output_dir=infer_output/ \\\n",
    "                    --draw_threshold=0.3 \\\n",
    "                    -o weights=/home/aistudio/PaddleDetection/output/picodet_m_320_coco_lcnet/model_final.pdparams \\"
   ]
  },
  {
   "cell_type": "code",
   "execution_count": null,
   "metadata": {},
   "outputs": [],
   "source": [
    "# 生成最终模型\n",
    "%cd ~\n",
    "%cd PaddleDetection\n",
    "!python tools/export_model.py -c configs/yolov3/yolov3_r34_270e_coco.yml \\\n",
    "        -o weights=/home/aistudio/PaddleDetection/output/yolov3_r34_270e_coco/model_final \\\n",
    "        TestReader.fuse_normalize=true"
   ]
  },
  {
   "cell_type": "code",
   "execution_count": null,
   "metadata": {},
   "outputs": [],
   "source": [
    "import os  \n",
    "# 指定要搜索的文件夹路径  \n",
    "folder_path = \"/home/aistudio/Car2024/images\"  \n",
    "# 指定要写入的txt文件路径  \n",
    "output_file = \"/home/aistudio/submission/output.txt\"\n",
    "# 获取文件夹下的所有文件和子文件夹  \n",
    "files = os.listdir(folder_path)\n",
    "# 打开txt文件准备写入  \n",
    "with open(output_file, \"w\") as file:  \n",
    "    # 遍历所有文件和子文件夹  \n",
    "    for item in files:  \n",
    "        # 如果不是文件夹，则写入文件路径到txt文件中  \n",
    "        if not os.path.isdir(os.path.join(folder_path, item)):  \n",
    "            file.write(os.path.join(folder_path, item) + \"\\n\")"
   ]
  },
  {
   "cell_type": "code",
   "execution_count": null,
   "metadata": {},
   "outputs": [],
   "source": [
    "# 根据predict写对应的result.json\n",
    "%cd ~/submission\n",
    "!python predict.py output.txt result.json"
   ]
  },
  {
   "cell_type": "code",
   "execution_count": null,
   "metadata": {},
   "outputs": [],
   "source": [
    "%cd ~/submission\n",
    "!zip -r submission.zip .\n",
    "!echo \"please download the submission.zip!\""
   ]
  }
 ],
 "metadata": {
  "kernelspec": {
   "display_name": "myenv",
   "language": "python",
   "name": "python3"
  },
  "language_info": {
   "codemirror_mode": {
    "name": "ipython",
    "version": 3
   },
   "file_extension": ".py",
   "mimetype": "text/x-python",
   "name": "python",
   "nbconvert_exporter": "python",
   "pygments_lexer": "ipython3",
   "version": "3.7.16"
  }
 },
 "nbformat": 4,
 "nbformat_minor": 2
}
